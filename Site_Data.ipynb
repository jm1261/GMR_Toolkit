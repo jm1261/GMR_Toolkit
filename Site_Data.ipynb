{
 "cells": [
  {
   "cell_type": "markdown",
   "metadata": {},
   "source": [
    "# Site Data Monitoring\n",
    "\n",
    "<div style=\"text-align: justify\">\n",
    "\n",
    "* Processing of site data for the Argus project for weekly meetings.\n",
    "* Data should be in the form of at least 1 csv for GMR data, perhaps more to come in the form of temperature, pressure, density, flow, etc.\n",
    "\n",
    "</div>"
   ]
  },
  {
   "cell_type": "code",
   "execution_count": 53,
   "metadata": {},
   "outputs": [],
   "source": [
    "import numpy as np\n",
    "import pandas as pd\n",
    "import matplotlib.pyplot as plt\n",
    "\n",
    "from pathlib import Path\n",
    "from datetime import datetime\n",
    "from matplotlib.ticker import AutoMinorLocator, MultipleLocator\n",
    "\n",
    "root = Path().absolute()\n",
    "storage = Path('K://Josh/Argus_Project')\n",
    "\n",
    "site_data = Path(f'{storage}/Site_Data/Sensor_Data')"
   ]
  },
  {
   "cell_type": "markdown",
   "metadata": {},
   "source": [
    "<div style=\"text-align: justify\">\n",
    "\n",
    "* There are two files for the week beginning 11/06/2024, one that appears to be from the London plan (looking at the sensor data column headers) and one that was called \"Libra\" when it was sent to me, which is obvious.\n",
    "* The csv files are oddly spaced, but I think pandas should be able to read it in quite easily.\n",
    "\n",
    "</div>"
   ]
  },
  {
   "cell_type": "code",
   "execution_count": 54,
   "metadata": {},
   "outputs": [],
   "source": [
    "london_data = pd.read_csv(\n",
    "    filepath_or_buffer=Path(f'{site_data}/London_GMR_240611_240618.csv'),\n",
    "    sep=',')\n",
    "libra_data = pd.read_csv(\n",
    "    filepath_or_buffer=Path(f'{site_data}/Libra_GMR_240611_240618.csv'),\n",
    "    sep=',')"
   ]
  },
  {
   "cell_type": "markdown",
   "metadata": {},
   "source": [
    "<div style=\"text-align: justify\">\n",
    "\n",
    "* Pandas should be able to read in the headers.\n",
    "* Using the list(data_frame) function seems to be the recommended way of doing that.\n",
    "* Try it:\n",
    "\n",
    "</div>"
   ]
  },
  {
   "cell_type": "code",
   "execution_count": 55,
   "metadata": {},
   "outputs": [],
   "source": [
    "london_headers = list(london_data)\n",
    "libra_headers = list(libra_data)"
   ]
  },
  {
   "cell_type": "markdown",
   "metadata": {},
   "source": [
    "<div style=\"text-align: justify\">\n",
    "\n",
    "* All of this data needs to be plotted as a function of the time stamp, so we should probably start by figuring out the time scale.\n",
    "* Here, I think we can look to the temperature compensation notebook and use the same method, because in principle, it is the same data.\n",
    "\n",
    "</div>"
   ]
  },
  {
   "cell_type": "code",
   "execution_count": 56,
   "metadata": {},
   "outputs": [],
   "source": [
    "london_timestamp = london_data['timestamp']\n",
    "libra_timestamp = libra_data['timestamp']\n",
    "\n",
    "london_object = [\n",
    "    datetime.strptime(date_string, \"%d/%m/%Y %H:%M\")\n",
    "    for date_string in london_timestamp]\n",
    "libra_object = [\n",
    "    datetime.strptime(date_string, \"%d/%m/%Y %H:%M\")\n",
    "    for date_string in libra_timestamp]\n",
    "\n",
    "london_time = [obj.timestamp() for obj in london_object] \n",
    "libra_time = [obj.timestamp() for obj in libra_object]\n",
    "\n",
    "london_corrected_time = [time - london_time[0] for time in london_time]\n",
    "libra_corrected_time = [time - libra_time[0] for time in libra_time]"
   ]
  },
  {
   "cell_type": "markdown",
   "metadata": {},
   "source": [
    "<div style=\"text-align: justify\">\n",
    "\n",
    "* That works with a few tweaks to the data input for the time/date stamps.\n",
    "* Here the date is in the format dd/mm/YYYY HH:MM, not the same as the temperature compensation data.\n",
    "* But a quick change to how it reads it in seems to work fine.\n",
    "* Also I have corrected the time so that it starts at 0 and reads in seconds, could change this to minutes later I suppose if needed as it could get a bit ridiculous for the 7 days.\n",
    "* Now let's plot them and see what they all look like.\n",
    "* I tried plotting them all on the same figure and it doesn't look very nice because there are lines everywhere, there's actually quite a lot of data here.\n",
    "* So let's try it a different way.\n",
    "* Let's try plotting on a grid, much like my old SEM code does, where each header creates a new plot and we can look at it more easily.\n",
    "* Also, yes, let's scale the time stamps back to minutes.\n",
    "\n",
    "</div>"
   ]
  },
  {
   "cell_type": "code",
   "execution_count": 57,
   "metadata": {},
   "outputs": [
    {
     "data": {
      "text/plain": [
       "<Figure size 3543.31x8503.94 with 0 Axes>"
      ]
     },
     "metadata": {},
     "output_type": "display_data"
    }
   ],
   "source": [
    "london_time_mins = [t / 60 for t in london_corrected_time]\n",
    "london_time_hours = [t / 60 for t in london_time_mins]\n",
    "london_number_columns = len(london_data.columns) - 1\n",
    "london_number_rows = (london_number_columns + 1) // 2\n",
    "\n",
    "fig, axes = plt.subplots(\n",
    "    nrows=london_number_rows,\n",
    "    ncols=2,\n",
    "    figsize=[15 * 0.393701, london_number_rows * 9 * 0.393701],\n",
    "    dpi=600)\n",
    "\n",
    "if london_number_rows > 1:\n",
    "    axes = axes.flatten()\n",
    "else:\n",
    "    axes = np.array([axes]).flatten()\n",
    "\n",
    "for index, header in enumerate(london_headers[1: ]):\n",
    "    axes[index].plot(\n",
    "        london_time_hours,\n",
    "        london_data[f'{header}'],\n",
    "        f'C{index}',\n",
    "        lw=1,\n",
    "        label=f'{header}')\n",
    "    axes[index].set_title(\n",
    "        f'{header}',\n",
    "        fontweight='bold',\n",
    "        fontsize=6)\n",
    "    axes[index].set_xlabel(\n",
    "        'Time [hours]',\n",
    "        fontweight='bold',\n",
    "        fontsize=8)\n",
    "    axes[index].set_ylabel(\n",
    "        'Peak Position [px]',\n",
    "        fontweight='bold',\n",
    "        fontsize=8)\n",
    "    axes[index].grid(\n",
    "        True,\n",
    "        alpha=0.5)\n",
    "    axes[index].tick_params(\n",
    "        axis='both',\n",
    "        labelsize=6)\n",
    "    axes[index].xaxis.set_major_locator(MultipleLocator(24))\n",
    "    axes[index].xaxis.set_minor_locator(AutoMinorLocator())\n",
    "    axes[index].yaxis.set_minor_locator(AutoMinorLocator())\n",
    "fig.tight_layout()\n",
    "plt.savefig(\n",
    "    Path(f'{site_data}/London_GMR_240611_240618.png'),\n",
    "    bbox_inches='tight')\n",
    "plt.clf()\n"
   ]
  },
  {
   "cell_type": "code",
   "execution_count": 58,
   "metadata": {},
   "outputs": [
    {
     "data": {
      "text/plain": [
       "<Figure size 3543.31x8503.94 with 0 Axes>"
      ]
     },
     "metadata": {},
     "output_type": "display_data"
    }
   ],
   "source": [
    "libra_time_mins = [t / 60 for t in libra_corrected_time]\n",
    "libra_time_hours = [t / 60 for t in libra_time_mins]\n",
    "libra_number_columns = len(libra_data.columns) - 1\n",
    "libra_number_rows = (libra_number_columns + 1) // 2\n",
    "\n",
    "fig, axes = plt.subplots(\n",
    "    nrows=libra_number_rows,\n",
    "    ncols=2,\n",
    "    figsize=[15 * 0.393701, libra_number_rows * 9 * 0.393701],\n",
    "    dpi=600)\n",
    "\n",
    "if libra_number_rows > 1:\n",
    "    axes = axes.flatten()\n",
    "else:\n",
    "    axes = np.array([axes]).flatten()\n",
    "\n",
    "for index, header in enumerate(libra_headers[1: ]):\n",
    "    axes[index].plot(\n",
    "        libra_time_hours,\n",
    "        libra_data[f'{header}'],\n",
    "        f'C{index}',\n",
    "        lw=1,\n",
    "        label=f'{header}')\n",
    "    axes[index].set_title(\n",
    "        f'{header}',\n",
    "        fontweight='bold',\n",
    "        fontsize=6)\n",
    "    axes[index].set_xlabel(\n",
    "        'Time [hours]',\n",
    "        fontweight='bold',\n",
    "        fontsize=8)\n",
    "    axes[index].set_ylabel(\n",
    "        'Peak Position [px]',\n",
    "        fontweight='bold',\n",
    "        fontsize=8)\n",
    "    axes[index].grid(\n",
    "        True,\n",
    "        alpha=0.5)\n",
    "    axes[index].tick_params(\n",
    "        axis='both',\n",
    "        labelsize=6)\n",
    "    axes[index].xaxis.set_major_locator(MultipleLocator(24))\n",
    "    axes[index].xaxis.set_minor_locator(AutoMinorLocator())\n",
    "    axes[index].yaxis.set_minor_locator(AutoMinorLocator())\n",
    "fig.tight_layout()\n",
    "plt.savefig(\n",
    "    Path(f'{site_data}/Libra_GMR_240611_240618.png'),\n",
    "    bbox_inches='tight')\n",
    "plt.clf()"
   ]
  }
 ],
 "metadata": {
  "kernelspec": {
   "display_name": ".venv",
   "language": "python",
   "name": "python3"
  },
  "language_info": {
   "codemirror_mode": {
    "name": "ipython",
    "version": 3
   },
   "file_extension": ".py",
   "mimetype": "text/x-python",
   "name": "python",
   "nbconvert_exporter": "python",
   "pygments_lexer": "ipython3",
   "version": "3.12.3"
  }
 },
 "nbformat": 4,
 "nbformat_minor": 2
}
